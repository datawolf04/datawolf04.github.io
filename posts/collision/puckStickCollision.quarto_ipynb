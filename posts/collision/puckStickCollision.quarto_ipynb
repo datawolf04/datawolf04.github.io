{
  "cells": [
    {
      "cell_type": "markdown",
      "metadata": {},
      "source": [
        "---\n",
        "title: \"Puck, meet stick\"\n",
        "description: \"A story involving getting Manim to work to produce a visualization of motion.\"\n",
        "author: \"Steven Wolf\"\n",
        "date: \"4/25/2025\"\n",
        "number-sections: false\n",
        "categories:\n",
        "  - Python\n",
        "  - Modeling\n",
        "  - Classes\n",
        "  - Motion\n",
        "  - Rotation\n",
        "  - Manim\n",
        "execute: \n",
        "  messages: false\n",
        "  warning: false\n",
        "jupyter: python3\n",
        "draft: true\n",
        "---\n",
        "\n",
        "\n",
        "# The end:\n",
        "I can make this pretty video using Manim!\n"
      ],
      "id": "c875e335"
    }
  ],
  "metadata": {
    "kernelspec": {
      "display_name": "Python 3",
      "language": "python",
      "name": "python3"
    }
  },
  "nbformat": 4,
  "nbformat_minor": 5
}