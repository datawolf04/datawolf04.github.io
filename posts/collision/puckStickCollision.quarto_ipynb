{
  "cells": [
    {
      "cell_type": "markdown",
      "metadata": {},
      "source": [
        "---\n",
        "title: \"Puck, meet stick\"\n",
        "description: \"A story involving getting Manim to work to produce a visualization of motion.\"\n",
        "author: \"Steven Wolf\"\n",
        "date: \"4/25/2025\"\n",
        "number-sections: false\n",
        "categories:\n",
        "  - Python\n",
        "  - Modeling\n",
        "  - Classes\n",
        "  - Motion\n",
        "  - Rotation\n",
        "  - Manim\n",
        "execute: \n",
        "  messages: false\n",
        "  warning: false\n",
        "jupyter: python3\n",
        "draft: true\n",
        "---\n",
        "\n",
        "\n",
        "# The end:\n",
        "I can make this pretty video using Manim!\n"
      ],
      "id": "015d92cb"
    }
  ],
  "metadata": {
    "kernelspec": {
      "name": "python3",
      "language": "python",
      "display_name": "Python 3 (ipykernel)",
      "path": "/home/swolf/anaconda3/envs/myManim/share/jupyter/kernels/python3"
    }
  },
  "nbformat": 4,
  "nbformat_minor": 5
}