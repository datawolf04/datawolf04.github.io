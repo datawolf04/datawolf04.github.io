{
  "cells": [
    {
      "cell_type": "raw",
      "metadata": {},
      "source": [
        "---\n",
        "title: Using the Heat Equation to model a real-world system (Part 4)\n",
        "description: Bringing a nuke to a fist-fight\n",
        "author: Steven Wolf\n",
        "date: 07/24/2025\n",
        "number-sections: false\n",
        "categories:\n",
        "  - Heat Equation\n",
        "  - Modeling\n",
        "  - Bringing a nuke to a fist-fight\n",
        "execute:\n",
        "  messages: false\n",
        "  warning: false\n",
        "draft: false\n",
        "---"
      ],
      "id": "6d11622c"
    },
    {
      "cell_type": "markdown",
      "metadata": {},
      "source": [
        "## Modeling a 1D Unit Rod with convection \n",
        "\n",
        "I'm still getting used to the FEniCSx software, so I'm going to go through the process of modeling a 1D rod, using Robin boundary conditions, and heavily annotating my code. This is (finally?) getting closer to a \"real world\" system, as it has the correct boundary condition describing convection. But it is still a 1D rod so, your mileage may vary.\n",
        "\n",
        "### Setting up the problem\n",
        "\n",
        "First, I'll load in all of the dependencies required.  There are a few \"families\" of dependencies that I'm including. These are:\n",
        "\n",
        "1. `numpy` and `matplotlib` because they are standard python tools for dealing with tabular data and graphics\n",
        "2. `petsc4py` and `mpi4py` are libraries often used in FEniCSx code because they support parallelization and speed up computation.\n",
        "3. `dolfinx` is the package that I'm using to set up the Finite Element Method (part of FEniCSx)\n",
        "4. `ufl` is a package with FEniCSx that translates a more convential mathematical notation into forms required by `dolfinx`. I like it when code \"looks like\" math/physics. (That's why I teach students how to create cell names and named ranges when using Excel.)"
      ],
      "id": "7460b38e"
    },
    {
      "cell_type": "code",
      "metadata": {},
      "source": [
        "import numpy as np\n",
        "import matplotlib.pyplot as plt\n",
        "import matplotlib as mpl\n",
        "\n",
        "from petsc4py import PETSc\n",
        "from mpi4py import MPI\n",
        "\n",
        "from dolfinx import default_scalar_type, io \n",
        "from dolfinx.fem import (Constant,  Function, functionspace, form)\n",
        "from dolfinx.fem.petsc import (LinearProblem, assemble_matrix, create_vector, \n",
        "                               assemble_vector, apply_lifting, set_bc)\n",
        "from dolfinx.mesh import create_interval, locate_entities, meshtags\n",
        "from ufl import (SpatialCoordinate, inner, ds, dx, Measure, TrialFunction, TestFunction, grad)"
      ],
      "id": "df232ce8",
      "execution_count": null,
      "outputs": []
    },
    {
      "cell_type": "markdown",
      "metadata": {},
      "source": [
        "#### Constant Parameters:\n",
        "None of these will have units because I'm living in a willy-nilly world without units. (For now).\n",
        "\n",
        "- $T_0 = 10$ uniform initial temperature for the rod.\n",
        "- $T_\\text{ext} = 0$ uniform and constant temperature of the surroundings.\n",
        "- $h = 0.5$ \"Heat conduction\" coefficient between rod and surroundings\n",
        "- $\\kappa = 1$ \"Thermal conductivity\" of rod\n",
        "- The simulation will run for 5 DataWolfs (my new, made up dimensionless time unit)\n",
        "- $dt = 0.1$ Time step size.\n",
        "- $L = 1$ rod \"length\""
      ],
      "id": "c3e11798"
    },
    {
      "cell_type": "code",
      "metadata": {},
      "source": [
        "t = 0 \n",
        "final_time = 5.0  # Final time for the simulation\n",
        "dt = 0.1  # Time step size\n",
        "num_steps = int((final_time - t) / dt)  \n",
        "T0 = 10.0  # Initial uniform temperature of the rod\n",
        "extTemp = 0.0  # External temperature at the boundaries (constant)\n",
        "tPlot = np.linspace(0, final_time, num_steps+1)  # Time points for plotting\n",
        "\n",
        "# Define the mesh and function space\n",
        "n_elements = 32\n",
        "# Create a 1D domain representing the rod from 0 to 1\n",
        "domain = create_interval(\n",
        "    MPI.COMM_WORLD,  # MPI communicator\n",
        "    n_elements,  # Number of elements in the mesh\n",
        "    [0.0, 1.0]  # Interval from 0 to 1 (the length of the rod)\n",
        ")\n",
        "\n",
        "x = SpatialCoordinate(domain)  # Spatial coordinates of the domain\n",
        "tempExt = lambda x: extTemp  # External temperature function (constant in this case)\n",
        "s = tempExt(x)  # External temperature at the boundary\n",
        "f = Constant(domain, PETSc.ScalarType(0))  # Source term (zero in this case)\n",
        "h = Constant(domain, PETSc.ScalarType(0.5))  # Robin boundary condition coefficient\n",
        "kappa = Constant(domain, PETSc.ScalarType(1.0))  # Thermal conductivity"
      ],
      "id": "036e3f60",
      "execution_count": null,
      "outputs": []
    },
    {
      "cell_type": "markdown",
      "metadata": {},
      "source": [
        "### Set up the initial condition\n",
        "We will create a function space that assumes linear elements between the grid degrees of freedom. This is the Galerkin method I talked about previously, where the basis functions are linear functions localized near each of the mesh points:\n",
        "$$\n",
        "\\varphi_i = \n",
        "\\begin{cases}\n",
        "\\left(1-\\frac{\\left|x-x_i\\right|}{h} \\right) &\\left|x-x_i\\right|\\leq h \\\\\n",
        "0 & \\text{else}\n",
        "\\end{cases}\n",
        "$$\n",
        "\n",
        "I will create two functions in this function space:\n",
        "\n",
        "- `uPrev` is the solution at the previous time step, representing the $u^{k-1}$ in the linear form.\n",
        "- `uWork` is the solution at the current time step, representing the $u^k$ in the bilinear form."
      ],
      "id": "98c19d2d"
    },
    {
      "cell_type": "code",
      "metadata": {},
      "source": [
        "# Create a function space for the finite element method\n",
        "V = functionspace( \n",
        "    domain, ('Lagrange',1) # Linear Lagrange elements\n",
        ")\n",
        "\n",
        "# Create a constant function for the initial condition\n",
        "def initial_condition(x):\n",
        "  return np.full(x.shape[1], T0, dtype=np.float64)  # Initial temperature T0\n",
        "\n",
        "uPrev = Function(V)\n",
        "uPrev.name = \"uPrev\"  # Name the function for clarity\n",
        "uPrev.interpolate(initial_condition)  # Interpolate the initial condition into the function space\n",
        "\n",
        "uWork = Function(V)  # Function to hold the solution at the current time step\n",
        "uWork.name = \"uWork\"  # Name the function for clarity \n",
        "uWork.interpolate(initial_condition)  # Initialize with the same initial condition"
      ],
      "id": "89a1ebf0",
      "execution_count": null,
      "outputs": []
    },
    {
      "cell_type": "markdown",
      "metadata": {},
      "source": [
        "### Define the boundary condition\n",
        "We are using the Robin boundary condition, suitable for describing convection.\n",
        "$$\n",
        "-\\kappa \\left(\\hat{n}\\cdot\\nabla\\right) u^k = h^k(u^k - s^k) \\quad \\forall x\\in\\{0,1\\}\n",
        "$$\n",
        "\n",
        "The code below starts with a python version of the above definition of where the boundary is, and then uses an automated process to convert that into a useful definition for `dolfinx`. I'm also defining the measures for integration based on these boundary definitions. Note that Fenics Tutorials usually have at least one surface that has an explicit Dirichlet boundary condition."
      ],
      "id": "bc786720"
    },
    {
      "cell_type": "code",
      "metadata": {},
      "source": [
        "boundaries = [\n",
        "  (1, lambda x: np.isclose(x[0], 0.0)),  # Left boundary located at x=0\n",
        "  (2, lambda x: np.isclose(x[0], 1.0))  # Right boundary located at x=1\n",
        "]\n",
        "facet_indices, facet_markers = [], []\n",
        "tdim = domain.topology.dim\n",
        "fdim = tdim - 1  # Dimension of the facets (1D for a rod)\n",
        "\n",
        "for (marker, locator) in boundaries:\n",
        "    facets = locate_entities(domain, fdim, locator)\n",
        "    facet_indices.append(facets)\n",
        "    facet_markers.append(np.full_like(facets, marker))\n",
        "facet_indices = np.hstack(facet_indices).astype(np.int32)\n",
        "facet_markers = np.hstack(facet_markers).astype(np.int32)\n",
        "sorted_facets = np.argsort(facet_indices)\n",
        "facet_tag = meshtags(domain, fdim, facet_indices[sorted_facets], facet_markers[sorted_facets])\n",
        "\n",
        "bcs = []  # No Dirichlet boundary conditions, so we leave this empty\n",
        "dx = Measure(\"dx\", domain=domain)  # Define the measure for the volume integral\n",
        "ds = Measure(\"ds\", domain=domain, subdomain_data=facet_tag)  # Define the measure for the boundary integral"
      ],
      "id": "07bdc233",
      "execution_count": null,
      "outputs": []
    },
    {
      "cell_type": "markdown",
      "metadata": {},
      "source": [
        "### Set up the variational formulation\n",
        "As stated in previous posts, the variational formulation (note: $u^k \\rightarrow u$) for this problem is:\n",
        "$$\n",
        "a(u,v) = L(v)\n",
        "$$\n",
        "where the bilinear form is:\n",
        "$$\n",
        "a(u,v) = \\int_\\Omega uv dx + \\int_\\Omega \\Delta t \\kappa \\nabla u \\cdot \\nabla v dx + \\sum_l \\int_{\\Gamma^R_l} \\frac{\\Delta t}{\\kappa}  u v ds \n",
        "$$\n",
        "and the linear form (for the Robin condition only) is:\n",
        "$$\n",
        "L(v) = \\int_\\Omega u^{k-1} v dx + \\int_\\Omega f v dx + \\sum_l \\int_{\\Gamma^R_l} \\Delta t h_l s_l v ds \n",
        "$$\n",
        "Let's define the trial function `u` and the test function `v` and set up these forms:"
      ],
      "id": "965cebe8"
    },
    {
      "cell_type": "code",
      "metadata": {},
      "source": [
        "u = TrialFunction(V)  # Trial function for the finite element method\n",
        "v = TestFunction(V)  # Test function for the finite element method\n",
        "a = u * v * dx + dt * kappa * inner(grad(u), grad(v)) * dx  + dt * h / kappa * u * v * ds # Bilinear form for the RBC\n",
        "L = (uPrev + dt * f) * v * dx + dt * h / kappa * s * v * ds  # Linear form for the RBC\n",
        "bilinear_form = form(a)  # Bilinear form for the weak formulation\n",
        "linear_form = form(L)  # Linear form for the weak formulation"
      ],
      "id": "7d9244e5",
      "execution_count": null,
      "outputs": []
    },
    {
      "cell_type": "markdown",
      "metadata": {},
      "source": [
        "### Convert into a Linear Algebra problem\n",
        "One of the reasons that we use the Finite Element method is that computers are pretty good at doing linear algebra operations quickly. So we begin by setting up the linear algebra structures."
      ],
      "id": "0a97d61c"
    },
    {
      "cell_type": "code",
      "metadata": {},
      "source": [
        "A = assemble_matrix(bilinear_form, bcs=bcs)  # Assemble the matrix A\n",
        "A.assemble()  # Finalize the assembly of the matrix A\n",
        "b = create_vector(linear_form)  # Create a vector for the right-hand side"
      ],
      "id": "cab6fe44",
      "execution_count": null,
      "outputs": []
    },
    {
      "cell_type": "markdown",
      "metadata": {},
      "source": [
        "Now let's set up a framework to solve the linear system. Note, the 3rd and 4th lines below are talking about a \"Preconditioner\". I spent some time figuring out what that was all about. It does a LU decomposition, which is a form of Gaussian Elimination (ish). Basically, its all about speeding things up knowing that this is a sparse matrix system (remember, only neighboring elements contribute due to the localization of the basis functions)."
      ],
      "id": "5b8cfbf5"
    },
    {
      "cell_type": "code",
      "metadata": {},
      "source": [
        "solver = PETSc.KSP().create(domain.comm)\n",
        "solver.setOperators(A)  # Set the matrix A for the solver\n",
        "solver.setType(PETSc.KSP.Type.PREONLY)  # Use a preconditioner\n",
        "solver.getPC().setType(PETSc.PC.Type.LU)  # Use LU preconditioner"
      ],
      "id": "797c2b9e",
      "execution_count": null,
      "outputs": []
    },
    {
      "cell_type": "markdown",
      "metadata": {},
      "source": [
        "### Begin a surface plot:\n",
        "I'm going to use a matplotlib surface plot to display my result rather than pyvista. I was playing around on StackExchange and came across a post that complained about why a pyvista version of a plot looked so ugly when matplotlib could do it so easily. The answer was basically, that the poster used pyvista correctly, it just contained data that was on vastly different scales. The answerer said something to the effect of, \"You have to tell PyVista to lie to you.\" My question (at least for now) is, \"How does PyVista know my units are meaningful?\" Since my units are not (yet) meaningful, I'll stick with matplotlib. Plus, I always try to learn only one thing at a time."
      ],
      "id": "c8eb86ca"
    },
    {
      "cell_type": "code",
      "metadata": {},
      "source": [
        "xMesh = domain.geometry.x[: ,0]\n",
        "Tc, Xc = np.meshgrid(tPlot, xMesh)  # Create a mesh grid for plotting\n",
        "Uc = np.zeros_like(Tc)\n",
        "Uc[:, 0] = uWork.x.array  # Initial condition for plotting"
      ],
      "id": "c86ee45b",
      "execution_count": null,
      "outputs": []
    },
    {
      "cell_type": "markdown",
      "metadata": {},
      "source": [
        "### Advance in time\n",
        "Now we need to advance in time, solving the linear system at each time-step. Note that the solver assumes that you are solving the equation:\n",
        "$$\n",
        "A x = b\n",
        "$$\n",
        "at each time step, so the linear form needs to be assembled into the vector `b`."
      ],
      "id": "35370134"
    },
    {
      "cell_type": "code",
      "metadata": {},
      "source": [
        "for i in range(num_steps):\n",
        "    t += dt  # Current time\n",
        "\n",
        "    # Update the RHS reusing the previous solution\n",
        "    with b.localForm() as loc_b:\n",
        "        loc_b.set(0.0)\n",
        "    \n",
        "    assemble_vector(b, linear_form)\n",
        "    apply_lifting(b, [bilinear_form], [bcs])  # Apply boundary conditions\n",
        "    b.ghostUpdate(addv=PETSc.InsertMode.ADD_VALUES, mode=PETSc.ScatterMode.REVERSE)  # Update ghost values\n",
        "    set_bc(b, bcs)  # Set the boundary conditions\n",
        "\n",
        "    # Solve linear problem\n",
        "    solver.solve(b, uWork.x.petsc_vec)\n",
        "    # Put the solution in our uWork object\n",
        "    uWork.x.scatter_forward()\n",
        "\n",
        "    # Update the solution at the current time step for plotting\n",
        "    Uc[:, i+1] = uWork.x.array\n",
        "    \n",
        "    # Update solution at previous time step (uPrev)\n",
        "    uPrev.x.array[:] = uWork.x.array"
      ],
      "id": "75fbd708",
      "execution_count": null,
      "outputs": []
    },
    {
      "cell_type": "markdown",
      "metadata": {},
      "source": [
        "### Make a pretty picture\n",
        "Make the plot the normal matplotlib way."
      ],
      "id": "ab1ea32b"
    },
    {
      "cell_type": "code",
      "metadata": {},
      "source": [
        "fig, ax = plt.subplots(subplot_kw={'projection': '3d'},figsize=(8,7) ) # Create a 3D plot\n",
        "ax.plot_surface(Xc, Tc, Uc, cmap='viridis', edgecolor='none')  # Plot the FENICS solution\n",
        "ax.set_title(rf'$\\kappa = ${kappa.value:.2f}')\n",
        "ax.set_xlabel('Position along the rod (x)')  # X-axis label\n",
        "ax.set_ylabel('Time (t)')  # Y-axis label\n",
        "ax.set_zlabel('Temperature (u)')  # Z-axis label\n",
        "plt.tight_layout()  # Adjust layout to prevent overlap\n",
        "plt.suptitle('Robin Problem for a Unit Rod')  # Overall title for the plot\n",
        "plt.subplots_adjust(top=0.9)  # Adjust the top margin to fit\n",
        "plt.show()  # Show the plot"
      ],
      "id": "06452527",
      "execution_count": null,
      "outputs": []
    },
    {
      "cell_type": "markdown",
      "metadata": {},
      "source": [
        "### Compare the behavior for different heat transfer coefficients\n",
        "Let's make this plot to compare with the one I made where I adjusted the heat transfer coefficient on my homemade version of the finite element method."
      ],
      "id": "11926eda"
    },
    {
      "cell_type": "code",
      "metadata": {},
      "source": [
        "#| echo: false\n",
        "#| \n",
        "from robin import *\n",
        "\n",
        "plotRobinRod(0.1)\n",
        "plotRobinRod(1)\n",
        "plotRobinRod(100)"
      ],
      "id": "791403d8",
      "execution_count": null,
      "outputs": []
    },
    {
      "cell_type": "markdown",
      "metadata": {},
      "source": [
        "## Next steps\n",
        "I'm going to add in more dimensions, keeping the Robin condition. Specifically, I'm going to model a 2D sheet and a 3D box that are analogous to the above system. The rationale for this is that I want to start learning how to use `pyvista`, a 3D visualization tool that is used in many FEniCSx tutorials. It seems...unproductive...to use 2D/3D modeling tools to describe 1D systems.\n",
        "\n",
        "After that, I'll need to do two things:\n",
        "\n",
        "- Go back to the physics and make sure I can do units correctly. This is especially important for dealing with external heat sources.\n",
        "- Figure out how to make composite boundaries. Ultimately, I want to model a house, so I need to figure out how I want to create walls, doors, and windows. "
      ],
      "id": "b250b9b7"
    }
  ],
  "metadata": {
    "kernelspec": {
      "display_name": "Python 3",
      "language": "python",
      "name": "python3"
    }
  },
  "nbformat": 4,
  "nbformat_minor": 5
}